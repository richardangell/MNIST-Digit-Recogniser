{
 "cells": [
  {
   "cell_type": "markdown",
   "metadata": {},
   "source": [
    "# MNIST Important Pixels\n",
    "In this notebook a simple feedforward network is built to recognise MNIST images, using Keras. <br> We then try to identify important pixels in the prediction for a given image."
   ]
  },
  {
   "cell_type": "markdown",
   "metadata": {},
   "source": [
    "## Part 1: Build the model"
   ]
  },
  {
   "cell_type": "markdown",
   "metadata": {},
   "source": [
    "### Import libraries"
   ]
  },
  {
   "cell_type": "code",
   "execution_count": 15,
   "metadata": {},
   "outputs": [],
   "source": [
    "import numpy as np\n",
    "import pandas as pd\n",
    "from datetime import datetime\n",
    "import matplotlib.pyplot as plt\n",
    "%matplotlib inline"
   ]
  },
  {
   "cell_type": "markdown",
   "metadata": {},
   "source": [
    "### Import MNIST data from TensorFlow"
   ]
  },
  {
   "cell_type": "code",
   "execution_count": 1,
   "metadata": {},
   "outputs": [
    {
     "name": "stdout",
     "output_type": "stream",
     "text": [
      "Extracting MNIST_data/train-images-idx3-ubyte.gz\n",
      "Extracting MNIST_data/train-labels-idx1-ubyte.gz\n",
      "Extracting MNIST_data/t10k-images-idx3-ubyte.gz\n",
      "Extracting MNIST_data/t10k-labels-idx1-ubyte.gz\n"
     ]
    }
   ],
   "source": [
    "from tensorflow.examples.tutorials.mnist import input_data\n",
    "mnist = input_data.read_data_sets(\"MNIST_data/\", one_hot = True)"
   ]
  },
  {
   "cell_type": "markdown",
   "metadata": {},
   "source": [
    "### Import Keras "
   ]
  },
  {
   "cell_type": "code",
   "execution_count": 2,
   "metadata": {},
   "outputs": [
    {
     "name": "stderr",
     "output_type": "stream",
     "text": [
      "Using TensorFlow backend.\n"
     ]
    }
   ],
   "source": [
    "from keras.models import Sequential\n",
    "from keras.layers import Dense, Activation"
   ]
  },
  {
   "cell_type": "markdown",
   "metadata": {},
   "source": [
    "### Define model structure"
   ]
  },
  {
   "cell_type": "code",
   "execution_count": 3,
   "metadata": {},
   "outputs": [],
   "source": [
    "model = Sequential()\n",
    "model.add(Dense(32, input_shape=(784,)))\n",
    "model.add(Activation('relu'))\n",
    "model.add(Dense(10))\n",
    "model.add(Activation('softmax'))"
   ]
  },
  {
   "cell_type": "code",
   "execution_count": 4,
   "metadata": {},
   "outputs": [],
   "source": [
    "model.compile(optimizer = 'rmsprop',\n",
    "              loss = 'categorical_crossentropy',\n",
    "              metrics = ['accuracy'])"
   ]
  },
  {
   "cell_type": "markdown",
   "metadata": {},
   "source": [
    "### Train model"
   ]
  },
  {
   "cell_type": "code",
   "execution_count": 6,
   "metadata": {},
   "outputs": [
    {
     "name": "stdout",
     "output_type": "stream",
     "text": [
      "training start: 2018-01-10 17:53:17.144182\n",
      "Train on 55000 samples, validate on 5000 samples\n",
      "Epoch 1/10\n",
      "55000/55000 [==============================] - 2s 38us/step - loss: 0.3620 - acc: 0.8997 - val_loss: 0.2237 - val_acc: 0.9364\n",
      "Epoch 2/10\n",
      "55000/55000 [==============================] - 2s 33us/step - loss: 0.2140 - acc: 0.9381 - val_loss: 0.1787 - val_acc: 0.9498\n",
      "Epoch 3/10\n",
      "55000/55000 [==============================] - 2s 33us/step - loss: 0.1777 - acc: 0.9496 - val_loss: 0.1620 - val_acc: 0.9524\n",
      "Epoch 4/10\n",
      "55000/55000 [==============================] - 2s 34us/step - loss: 0.1562 - acc: 0.9560 - val_loss: 0.1542 - val_acc: 0.9534\n",
      "Epoch 5/10\n",
      "55000/55000 [==============================] - 2s 33us/step - loss: 0.1396 - acc: 0.9598 - val_loss: 0.1464 - val_acc: 0.9582\n",
      "Epoch 6/10\n",
      "55000/55000 [==============================] - 2s 34us/step - loss: 0.1291 - acc: 0.9628 - val_loss: 0.1323 - val_acc: 0.9626\n",
      "Epoch 7/10\n",
      "55000/55000 [==============================] - 2s 33us/step - loss: 0.1175 - acc: 0.9672 - val_loss: 0.1369 - val_acc: 0.9622\n",
      "Epoch 8/10\n",
      "55000/55000 [==============================] - 2s 34us/step - loss: 0.1104 - acc: 0.9692 - val_loss: 0.1368 - val_acc: 0.9614\n",
      "Epoch 9/10\n",
      "55000/55000 [==============================] - 2s 34us/step - loss: 0.1038 - acc: 0.9706 - val_loss: 0.1338 - val_acc: 0.9636\n",
      "Epoch 10/10\n",
      "55000/55000 [==============================] - 2s 34us/step - loss: 0.0988 - acc: 0.9721 - val_loss: 0.1281 - val_acc: 0.9650\n",
      "training end: 2018-01-10 17:53:36.168709\n"
     ]
    }
   ],
   "source": [
    "print(\"training start:\", str(datetime.now()))\n",
    "model.fit(mnist.train.images, \n",
    "          mnist.train.labels, \n",
    "          epochs = 10, \n",
    "          batch_size = 32,\n",
    "          validation_data = (mnist.validation.images, mnist.validation.labels))\n",
    "print(\"training end:\", str(datetime.now()))"
   ]
  },
  {
   "cell_type": "code",
   "execution_count": 128,
   "metadata": {},
   "outputs": [
    {
     "data": {
      "text/plain": [
       "(55000, 10)"
      ]
     },
     "execution_count": 128,
     "metadata": {},
     "output_type": "execute_result"
    }
   ],
   "source": [
    "train_preds = model.predict(mnist.train.images)\n",
    "train_preds.shape"
   ]
  },
  {
   "cell_type": "markdown",
   "metadata": {},
   "source": [
    "### Check model layers"
   ]
  },
  {
   "cell_type": "code",
   "execution_count": 7,
   "metadata": {},
   "outputs": [
    {
     "name": "stdout",
     "output_type": "stream",
     "text": [
      "_________________________________________________________________\n",
      "Layer (type)                 Output Shape              Param #   \n",
      "=================================================================\n",
      "dense_1 (Dense)              (None, 32)                25120     \n",
      "_________________________________________________________________\n",
      "activation_1 (Activation)    (None, 32)                0         \n",
      "_________________________________________________________________\n",
      "dense_2 (Dense)              (None, 10)                330       \n",
      "_________________________________________________________________\n",
      "activation_2 (Activation)    (None, 10)                0         \n",
      "=================================================================\n",
      "Total params: 25,450\n",
      "Trainable params: 25,450\n",
      "Non-trainable params: 0\n",
      "_________________________________________________________________\n"
     ]
    }
   ],
   "source": [
    "model.summary()"
   ]
  },
  {
   "cell_type": "code",
   "execution_count": 10,
   "metadata": {},
   "outputs": [
    {
     "data": {
      "text/plain": [
       "(784, 32)"
      ]
     },
     "execution_count": 10,
     "metadata": {},
     "output_type": "execute_result"
    }
   ],
   "source": [
    "model.get_layer(\"dense_1\").get_weights()[0].shape"
   ]
  },
  {
   "cell_type": "code",
   "execution_count": 11,
   "metadata": {},
   "outputs": [
    {
     "data": {
      "text/plain": [
       "(32,)"
      ]
     },
     "execution_count": 11,
     "metadata": {},
     "output_type": "execute_result"
    }
   ],
   "source": [
    "model.get_layer(\"dense_1\").get_weights()[1].shape"
   ]
  },
  {
   "cell_type": "code",
   "execution_count": 12,
   "metadata": {},
   "outputs": [
    {
     "data": {
      "text/plain": [
       "(32, 10)"
      ]
     },
     "execution_count": 12,
     "metadata": {},
     "output_type": "execute_result"
    }
   ],
   "source": [
    "model.get_layer(\"dense_2\").get_weights()[0].shape"
   ]
  },
  {
   "cell_type": "code",
   "execution_count": 13,
   "metadata": {},
   "outputs": [
    {
     "data": {
      "text/plain": [
       "(10,)"
      ]
     },
     "execution_count": 13,
     "metadata": {},
     "output_type": "execute_result"
    }
   ],
   "source": [
    "model.get_layer(\"dense_2\").get_weights()[1].shape"
   ]
  },
  {
   "cell_type": "markdown",
   "metadata": {},
   "source": [
    "## Part 2: Find important pixels for the predicted value of a given image"
   ]
  },
  {
   "cell_type": "markdown",
   "metadata": {},
   "source": [
    "### Choose image to consider\n",
    "For the first row of training data, plot the image (7) and get the predictions from the model. <br> Predicted probability for class 7 = 93%."
   ]
  },
  {
   "cell_type": "code",
   "execution_count": 49,
   "metadata": {},
   "outputs": [],
   "source": [
    "row_number = 0"
   ]
  },
  {
   "cell_type": "code",
   "execution_count": 109,
   "metadata": {},
   "outputs": [
    {
     "data": {
      "text/plain": [
       "<matplotlib.image.AxesImage at 0x18194c5400>"
      ]
     },
     "execution_count": 109,
     "metadata": {},
     "output_type": "execute_result"
    },
    {
     "data": {
      "image/png": "[encoded data removed]",
      "text/plain": [
       "<matplotlib.figure.Figure at 0x1819147978>"
      ]
     },
     "metadata": {},
     "output_type": "display_data"
    }
   ],
   "source": [
    "plt.imshow(1 - mnist.train.images[0,].reshape(28, 28), cmap='gray')"
   ]
  },
  {
   "cell_type": "code",
   "execution_count": 129,
   "metadata": {},
   "outputs": [
    {
     "name": "stdout",
     "output_type": "stream",
     "text": [
      "[0. 0. 0. 0. 0. 0. 0. 1. 0. 0.]\n",
      "label: 7.0\n"
     ]
    }
   ],
   "source": [
    "print(mnist.train.labels[row_number])\n",
    "print(\"label:\" , np.dot(mnist.train.labels[row_number], np.arange(10)))"
   ]
  },
  {
   "cell_type": "code",
   "execution_count": 131,
   "metadata": {},
   "outputs": [
    {
     "data": {
      "text/plain": [
       "array([0.  , 0.  , 0.  , 0.07, 0.  , 0.  , 0.  , 0.93, 0.  , 0.  ],\n",
       "      dtype=float32)"
      ]
     },
     "execution_count": 131,
     "metadata": {},
     "output_type": "execute_result"
    }
   ],
   "source": [
    "np.round(train_preds[row_number], 2)"
   ]
  },
  {
   "cell_type": "markdown",
   "metadata": {},
   "source": [
    "### Mulitply inputs (pixel values) by layer 1 weights \n",
    "For the first image, get pixel value * weight for each node (32) in layer 1."
   ]
  },
  {
   "cell_type": "code",
   "execution_count": 57,
   "metadata": {},
   "outputs": [],
   "source": [
    "def multiply_inputs_coefs(inputs, coefs):\n",
    "    print(\"inputs shape:\", inputs.shape)\n",
    "    print(\"coefs shape:\", coefs.shape)\n",
    "    outputs = np.multiply(inputs, coefs)\n",
    "    print(\"outputs shape:\", outputs.shape)\n",
    "    return(outputs)"
   ]
  },
  {
   "cell_type": "code",
   "execution_count": 58,
   "metadata": {},
   "outputs": [
    {
     "name": "stdout",
     "output_type": "stream",
     "text": [
      "inputs shape: (784,)\n",
      "coefs shape: (32, 784)\n",
      "outputs shape: (32, 784)\n"
     ]
    }
   ],
   "source": [
    "input_x_coef1 = multiply_inputs_coefs(mnist.train.images[row_number,],\n",
    "                                      np.transpose(model.get_layer(\"dense_1\").get_weights()[0]))"
   ]
  },
  {
   "cell_type": "markdown",
   "metadata": {},
   "source": [
    "### Get intermediate layer outputs\n",
    "These will be needed in the next section."
   ]
  },
  {
   "cell_type": "code",
   "execution_count": null,
   "metadata": {},
   "outputs": [],
   "source": [
    "from keras.models import Model"
   ]
  },
  {
   "cell_type": "code",
   "execution_count": 37,
   "metadata": {},
   "outputs": [
    {
     "data": {
      "text/plain": [
       "(55000, 32)"
      ]
     },
     "execution_count": 37,
     "metadata": {},
     "output_type": "execute_result"
    }
   ],
   "source": [
    "layer_name = 'activation_1'\n",
    "intermediate_layer_model = Model(inputs = model.input,\n",
    "                                 outputs = model.get_layer(layer_name).output)\n",
    "intermediate_output = intermediate_layer_model.predict(mnist.train.images)\n",
    "intermediate_output.shape"
   ]
  },
  {
   "cell_type": "markdown",
   "metadata": {},
   "source": [
    "### Multiply layer 1 outputs by layer 2 weights\n",
    "Now multiply the outputs from the activation_1 layer with the weights from the second dense layer, for each node (10)."
   ]
  },
  {
   "cell_type": "code",
   "execution_count": 46,
   "metadata": {},
   "outputs": [
    {
     "data": {
      "text/plain": [
       "(32,)"
      ]
     },
     "execution_count": 46,
     "metadata": {},
     "output_type": "execute_result"
    }
   ],
   "source": [
    "intermediate_output[0,].shape"
   ]
  },
  {
   "cell_type": "code",
   "execution_count": 47,
   "metadata": {},
   "outputs": [
    {
     "data": {
      "text/plain": [
       "(55000, 32)"
      ]
     },
     "execution_count": 47,
     "metadata": {},
     "output_type": "execute_result"
    }
   ],
   "source": [
    "intermediate_output.shape"
   ]
  },
  {
   "cell_type": "code",
   "execution_count": 59,
   "metadata": {},
   "outputs": [
    {
     "name": "stdout",
     "output_type": "stream",
     "text": [
      "inputs shape: (32,)\n",
      "coefs shape: (10, 32)\n",
      "outputs shape: (10, 32)\n"
     ]
    }
   ],
   "source": [
    "input_x_coef2 = multiply_inputs_coefs(intermediate_output[row_number,],\n",
    "                                      np.transpose(model.get_layer(\"dense_2\").get_weights()[0]))"
   ]
  },
  {
   "cell_type": "code",
   "execution_count": 140,
   "metadata": {},
   "outputs": [
    {
     "data": {
      "text/html": [
       "<div>\n",
       "<style scoped>\n",
       "    .dataframe tbody tr th:only-of-type {\n",
       "        vertical-align: middle;\n",
       "    }\n",
       "\n",
       "    .dataframe tbody tr th {\n",
       "        vertical-align: top;\n",
       "    }\n",
       "\n",
       "    .dataframe thead th {\n",
       "        text-align: right;\n",
       "    }\n",
       "</style>\n",
       "<table border=\"1\" class=\"dataframe\">\n",
       "  <thead>\n",
       "    <tr style=\"text-align: right;\">\n",
       "      <th></th>\n",
       "      <th>0</th>\n",
       "      <th>1</th>\n",
       "      <th>2</th>\n",
       "      <th>3</th>\n",
       "      <th>4</th>\n",
       "      <th>5</th>\n",
       "      <th>6</th>\n",
       "      <th>7</th>\n",
       "      <th>8</th>\n",
       "      <th>9</th>\n",
       "      <th>...</th>\n",
       "      <th>22</th>\n",
       "      <th>23</th>\n",
       "      <th>24</th>\n",
       "      <th>25</th>\n",
       "      <th>26</th>\n",
       "      <th>27</th>\n",
       "      <th>28</th>\n",
       "      <th>29</th>\n",
       "      <th>30</th>\n",
       "      <th>31</th>\n",
       "    </tr>\n",
       "  </thead>\n",
       "  <tbody>\n",
       "    <tr>\n",
       "      <th>0</th>\n",
       "      <td>-0.0</td>\n",
       "      <td>-9.635512</td>\n",
       "      <td>-0.0</td>\n",
       "      <td>0.511566</td>\n",
       "      <td>-3.863917</td>\n",
       "      <td>-0.0</td>\n",
       "      <td>-0.0</td>\n",
       "      <td>0.0</td>\n",
       "      <td>-0.0</td>\n",
       "      <td>-0.0</td>\n",
       "      <td>...</td>\n",
       "      <td>-2.703749</td>\n",
       "      <td>0.816451</td>\n",
       "      <td>0.0</td>\n",
       "      <td>0.0</td>\n",
       "      <td>-13.624946</td>\n",
       "      <td>-0.0</td>\n",
       "      <td>-0.292560</td>\n",
       "      <td>-0.0</td>\n",
       "      <td>-0.0</td>\n",
       "      <td>-0.0</td>\n",
       "    </tr>\n",
       "    <tr>\n",
       "      <th>1</th>\n",
       "      <td>0.0</td>\n",
       "      <td>2.125093</td>\n",
       "      <td>-0.0</td>\n",
       "      <td>-2.262531</td>\n",
       "      <td>-5.013208</td>\n",
       "      <td>-0.0</td>\n",
       "      <td>-0.0</td>\n",
       "      <td>-0.0</td>\n",
       "      <td>0.0</td>\n",
       "      <td>0.0</td>\n",
       "      <td>...</td>\n",
       "      <td>-3.006290</td>\n",
       "      <td>-2.941774</td>\n",
       "      <td>-0.0</td>\n",
       "      <td>0.0</td>\n",
       "      <td>0.091975</td>\n",
       "      <td>0.0</td>\n",
       "      <td>-0.408508</td>\n",
       "      <td>0.0</td>\n",
       "      <td>0.0</td>\n",
       "      <td>0.0</td>\n",
       "    </tr>\n",
       "    <tr>\n",
       "      <th>2</th>\n",
       "      <td>-0.0</td>\n",
       "      <td>4.882957</td>\n",
       "      <td>0.0</td>\n",
       "      <td>0.012448</td>\n",
       "      <td>0.862640</td>\n",
       "      <td>-0.0</td>\n",
       "      <td>-0.0</td>\n",
       "      <td>-0.0</td>\n",
       "      <td>-0.0</td>\n",
       "      <td>-0.0</td>\n",
       "      <td>...</td>\n",
       "      <td>-1.911152</td>\n",
       "      <td>-0.132131</td>\n",
       "      <td>0.0</td>\n",
       "      <td>0.0</td>\n",
       "      <td>1.497805</td>\n",
       "      <td>-0.0</td>\n",
       "      <td>-0.021082</td>\n",
       "      <td>-0.0</td>\n",
       "      <td>0.0</td>\n",
       "      <td>0.0</td>\n",
       "    </tr>\n",
       "    <tr>\n",
       "      <th>3</th>\n",
       "      <td>-0.0</td>\n",
       "      <td>-3.556261</td>\n",
       "      <td>0.0</td>\n",
       "      <td>-0.237114</td>\n",
       "      <td>-2.775565</td>\n",
       "      <td>-0.0</td>\n",
       "      <td>-0.0</td>\n",
       "      <td>-0.0</td>\n",
       "      <td>-0.0</td>\n",
       "      <td>-0.0</td>\n",
       "      <td>...</td>\n",
       "      <td>1.348504</td>\n",
       "      <td>-1.321098</td>\n",
       "      <td>-0.0</td>\n",
       "      <td>-0.0</td>\n",
       "      <td>4.380715</td>\n",
       "      <td>-0.0</td>\n",
       "      <td>-0.196869</td>\n",
       "      <td>0.0</td>\n",
       "      <td>-0.0</td>\n",
       "      <td>-0.0</td>\n",
       "    </tr>\n",
       "    <tr>\n",
       "      <th>4</th>\n",
       "      <td>-0.0</td>\n",
       "      <td>-5.216155</td>\n",
       "      <td>-0.0</td>\n",
       "      <td>-4.121832</td>\n",
       "      <td>1.026034</td>\n",
       "      <td>-0.0</td>\n",
       "      <td>-0.0</td>\n",
       "      <td>-0.0</td>\n",
       "      <td>-0.0</td>\n",
       "      <td>-0.0</td>\n",
       "      <td>...</td>\n",
       "      <td>-0.089106</td>\n",
       "      <td>-1.577839</td>\n",
       "      <td>0.0</td>\n",
       "      <td>-0.0</td>\n",
       "      <td>-10.415653</td>\n",
       "      <td>-0.0</td>\n",
       "      <td>0.080127</td>\n",
       "      <td>0.0</td>\n",
       "      <td>-0.0</td>\n",
       "      <td>-0.0</td>\n",
       "    </tr>\n",
       "    <tr>\n",
       "      <th>5</th>\n",
       "      <td>0.0</td>\n",
       "      <td>-2.862185</td>\n",
       "      <td>-0.0</td>\n",
       "      <td>-0.045770</td>\n",
       "      <td>-3.529841</td>\n",
       "      <td>0.0</td>\n",
       "      <td>0.0</td>\n",
       "      <td>0.0</td>\n",
       "      <td>-0.0</td>\n",
       "      <td>0.0</td>\n",
       "      <td>...</td>\n",
       "      <td>-0.664488</td>\n",
       "      <td>-0.236531</td>\n",
       "      <td>-0.0</td>\n",
       "      <td>-0.0</td>\n",
       "      <td>1.464464</td>\n",
       "      <td>-0.0</td>\n",
       "      <td>0.068978</td>\n",
       "      <td>0.0</td>\n",
       "      <td>-0.0</td>\n",
       "      <td>-0.0</td>\n",
       "    </tr>\n",
       "    <tr>\n",
       "      <th>6</th>\n",
       "      <td>-0.0</td>\n",
       "      <td>-4.459607</td>\n",
       "      <td>-0.0</td>\n",
       "      <td>-1.071114</td>\n",
       "      <td>0.025152</td>\n",
       "      <td>-0.0</td>\n",
       "      <td>-0.0</td>\n",
       "      <td>0.0</td>\n",
       "      <td>0.0</td>\n",
       "      <td>-0.0</td>\n",
       "      <td>...</td>\n",
       "      <td>0.389079</td>\n",
       "      <td>0.586401</td>\n",
       "      <td>-0.0</td>\n",
       "      <td>0.0</td>\n",
       "      <td>-16.067297</td>\n",
       "      <td>0.0</td>\n",
       "      <td>0.046557</td>\n",
       "      <td>-0.0</td>\n",
       "      <td>-0.0</td>\n",
       "      <td>-0.0</td>\n",
       "    </tr>\n",
       "    <tr>\n",
       "      <th>7</th>\n",
       "      <td>-0.0</td>\n",
       "      <td>0.681025</td>\n",
       "      <td>-0.0</td>\n",
       "      <td>0.453883</td>\n",
       "      <td>1.308520</td>\n",
       "      <td>-0.0</td>\n",
       "      <td>-0.0</td>\n",
       "      <td>-0.0</td>\n",
       "      <td>-0.0</td>\n",
       "      <td>0.0</td>\n",
       "      <td>...</td>\n",
       "      <td>-1.184131</td>\n",
       "      <td>0.509653</td>\n",
       "      <td>-0.0</td>\n",
       "      <td>-0.0</td>\n",
       "      <td>4.101708</td>\n",
       "      <td>-0.0</td>\n",
       "      <td>-0.250607</td>\n",
       "      <td>-0.0</td>\n",
       "      <td>-0.0</td>\n",
       "      <td>-0.0</td>\n",
       "    </tr>\n",
       "    <tr>\n",
       "      <th>8</th>\n",
       "      <td>-0.0</td>\n",
       "      <td>-0.786911</td>\n",
       "      <td>-0.0</td>\n",
       "      <td>-0.835756</td>\n",
       "      <td>-0.390771</td>\n",
       "      <td>0.0</td>\n",
       "      <td>-0.0</td>\n",
       "      <td>-0.0</td>\n",
       "      <td>-0.0</td>\n",
       "      <td>-0.0</td>\n",
       "      <td>...</td>\n",
       "      <td>0.779648</td>\n",
       "      <td>0.160527</td>\n",
       "      <td>-0.0</td>\n",
       "      <td>0.0</td>\n",
       "      <td>-2.319237</td>\n",
       "      <td>-0.0</td>\n",
       "      <td>-0.278729</td>\n",
       "      <td>-0.0</td>\n",
       "      <td>0.0</td>\n",
       "      <td>0.0</td>\n",
       "    </tr>\n",
       "    <tr>\n",
       "      <th>9</th>\n",
       "      <td>-0.0</td>\n",
       "      <td>-12.508745</td>\n",
       "      <td>-0.0</td>\n",
       "      <td>-0.881541</td>\n",
       "      <td>-0.212099</td>\n",
       "      <td>-0.0</td>\n",
       "      <td>-0.0</td>\n",
       "      <td>0.0</td>\n",
       "      <td>-0.0</td>\n",
       "      <td>-0.0</td>\n",
       "      <td>...</td>\n",
       "      <td>-2.499492</td>\n",
       "      <td>-0.630725</td>\n",
       "      <td>-0.0</td>\n",
       "      <td>-0.0</td>\n",
       "      <td>-6.891692</td>\n",
       "      <td>0.0</td>\n",
       "      <td>-0.034289</td>\n",
       "      <td>0.0</td>\n",
       "      <td>0.0</td>\n",
       "      <td>-0.0</td>\n",
       "    </tr>\n",
       "  </tbody>\n",
       "</table>\n",
       "<p>10 rows × 32 columns</p>\n",
       "</div>"
      ],
      "text/plain": [
       "    0          1    2         3         4    5    6    7    8    9  ...   \\\n",
       "0 -0.0  -9.635512 -0.0  0.511566 -3.863917 -0.0 -0.0  0.0 -0.0 -0.0 ...    \n",
       "1  0.0   2.125093 -0.0 -2.262531 -5.013208 -0.0 -0.0 -0.0  0.0  0.0 ...    \n",
       "2 -0.0   4.882957  0.0  0.012448  0.862640 -0.0 -0.0 -0.0 -0.0 -0.0 ...    \n",
       "3 -0.0  -3.556261  0.0 -0.237114 -2.775565 -0.0 -0.0 -0.0 -0.0 -0.0 ...    \n",
       "4 -0.0  -5.216155 -0.0 -4.121832  1.026034 -0.0 -0.0 -0.0 -0.0 -0.0 ...    \n",
       "5  0.0  -2.862185 -0.0 -0.045770 -3.529841  0.0  0.0  0.0 -0.0  0.0 ...    \n",
       "6 -0.0  -4.459607 -0.0 -1.071114  0.025152 -0.0 -0.0  0.0  0.0 -0.0 ...    \n",
       "7 -0.0   0.681025 -0.0  0.453883  1.308520 -0.0 -0.0 -0.0 -0.0  0.0 ...    \n",
       "8 -0.0  -0.786911 -0.0 -0.835756 -0.390771  0.0 -0.0 -0.0 -0.0 -0.0 ...    \n",
       "9 -0.0 -12.508745 -0.0 -0.881541 -0.212099 -0.0 -0.0  0.0 -0.0 -0.0 ...    \n",
       "\n",
       "         22        23   24   25         26   27        28   29   30   31  \n",
       "0 -2.703749  0.816451  0.0  0.0 -13.624946 -0.0 -0.292560 -0.0 -0.0 -0.0  \n",
       "1 -3.006290 -2.941774 -0.0  0.0   0.091975  0.0 -0.408508  0.0  0.0  0.0  \n",
       "2 -1.911152 -0.132131  0.0  0.0   1.497805 -0.0 -0.021082 -0.0  0.0  0.0  \n",
       "3  1.348504 -1.321098 -0.0 -0.0   4.380715 -0.0 -0.196869  0.0 -0.0 -0.0  \n",
       "4 -0.089106 -1.577839  0.0 -0.0 -10.415653 -0.0  0.080127  0.0 -0.0 -0.0  \n",
       "5 -0.664488 -0.236531 -0.0 -0.0   1.464464 -0.0  0.068978  0.0 -0.0 -0.0  \n",
       "6  0.389079  0.586401 -0.0  0.0 -16.067297  0.0  0.046557 -0.0 -0.0 -0.0  \n",
       "7 -1.184131  0.509653 -0.0 -0.0   4.101708 -0.0 -0.250607 -0.0 -0.0 -0.0  \n",
       "8  0.779648  0.160527 -0.0  0.0  -2.319237 -0.0 -0.278729 -0.0  0.0  0.0  \n",
       "9 -2.499492 -0.630725 -0.0 -0.0  -6.891692  0.0 -0.034289  0.0  0.0 -0.0  \n",
       "\n",
       "[10 rows x 32 columns]"
      ]
     },
     "execution_count": 140,
     "metadata": {},
     "output_type": "execute_result"
    }
   ],
   "source": [
    "pd.set_option('display.max_columns', 20)\n",
    "pd.DataFrame(input_x_coef2)"
   ]
  },
  {
   "cell_type": "markdown",
   "metadata": {},
   "source": [
    "### Sum inputs * weights by input for second layer"
   ]
  },
  {
   "cell_type": "code",
   "execution_count": 134,
   "metadata": {},
   "outputs": [
    {
     "data": {
      "text/plain": [
       "array([ 0.0000000e+00, -3.1336302e+01,  0.0000000e+00, -8.4777632e+00,\n",
       "       -1.2563054e+01,  0.0000000e+00,  0.0000000e+00,  0.0000000e+00,\n",
       "        0.0000000e+00,  0.0000000e+00,  0.0000000e+00, -4.1109138e+01,\n",
       "       -4.4498386e+00,  0.0000000e+00, -3.4090316e+00, -9.0752649e+00,\n",
       "       -8.7471256e+00, -4.7755437e-03,  0.0000000e+00, -1.4600018e+01,\n",
       "       -1.5514387e+01, -5.5626068e+00, -9.5411777e+00, -4.7670665e+00,\n",
       "        0.0000000e+00,  0.0000000e+00, -3.7782158e+01,  0.0000000e+00,\n",
       "       -1.2869811e+00,  0.0000000e+00,  0.0000000e+00,  0.0000000e+00],\n",
       "      dtype=float32)"
      ]
     },
     "execution_count": 134,
     "metadata": {},
     "output_type": "execute_result"
    }
   ],
   "source": [
    "layer2_sum_input = np.sum(input_x_coef2, axis = 0)\n",
    "layer2_sum_input"
   ]
  },
  {
   "cell_type": "markdown",
   "metadata": {},
   "source": [
    "### Multiply weights through network\n",
    "value for pixel 1 = <br> input.weight(input1, node1) \\* \\[sum(input.weight(input1, node1), .., input.weight(input1, node10))\\] + <br>\n",
    "input.weight(input1, node2) \\* \\[sum(input.weight(input2, node1), .., input.weight(input2, node10))\\] + <br>\n",
    "input.weight(input1, node3) \\* \\[sum(input.weight(input3, node1), .., input.weight(input3, node10))\\] + <br>\n",
    "... <br>\n",
    "input.weight(input1, node32) \\* \\[sum(input.weight(input32, node1), .., input.weight(input32, node10))\\] <br>\n",
    "Note, the inputs are nodes within the sum refer to second dense layer."
   ]
  },
  {
   "cell_type": "code",
   "execution_count": 147,
   "metadata": {},
   "outputs": [
    {
     "data": {
      "text/plain": [
       "(784,)"
      ]
     },
     "execution_count": 147,
     "metadata": {},
     "output_type": "execute_result"
    }
   ],
   "source": [
    "pixel_weight_network_sum = np.dot(layer2_sum_input, input_x_coef1)\n",
    "pixel_weight_network_sum.shape"
   ]
  },
  {
   "cell_type": "code",
   "execution_count": 148,
   "metadata": {},
   "outputs": [
    {
     "data": {
      "image/png": "[encoded data removed]",
      "text/plain": [
       "<matplotlib.figure.Figure at 0x181a6b7d68>"
      ]
     },
     "metadata": {},
     "output_type": "display_data"
    }
   ],
   "source": [
    "plt.title('Distribution of pixel input x weights through network')\n",
    "a = plt.hist(pixel_weight_network_sum, bins=30)"
   ]
  },
  {
   "cell_type": "code",
   "execution_count": 150,
   "metadata": {},
   "outputs": [
    {
     "data": {
      "text/plain": [
       "<matplotlib.colorbar.Colorbar at 0x181a8b0080>"
      ]
     },
     "execution_count": 150,
     "metadata": {},
     "output_type": "execute_result"
    },
    {
     "data": {
      "image/png": "[encoded data removed]",
      "text/plain": [
       "<matplotlib.figure.Figure at 0x181a6ea240>"
      ]
     },
     "metadata": {},
     "output_type": "display_data"
    }
   ],
   "source": [
    "plt.imshow(pixel_weight_network_sum.reshape(28, 28), cmap='hot')\n",
    "plt.colorbar()"
   ]
  },
  {
   "cell_type": "markdown",
   "metadata": {},
   "source": [
    "This shows the product of input * weight through the network, starting at each pixel. <br>\n",
    "However given that the background for the images is white, these zero values propagate through the network, and hence we are just highlighting the non-background (zero) pixels. <br> Need to test this on a different dataset where the background is not all one colour."
   ]
  },
  {
   "cell_type": "markdown",
   "metadata": {},
   "source": [
    "### Look at softmax transformation\n",
    "First get output from second dense layer before going into the softmax function."
   ]
  },
  {
   "cell_type": "code",
   "execution_count": 151,
   "metadata": {},
   "outputs": [
    {
     "data": {
      "text/plain": [
       "(55000, 10)"
      ]
     },
     "execution_count": 151,
     "metadata": {},
     "output_type": "execute_result"
    }
   ],
   "source": [
    "layer_name = 'dense_2'\n",
    "intermediate_layer_model = Model(inputs = model.input,\n",
    "                                 outputs = model.get_layer(layer_name).output)\n",
    "intermediate_output = intermediate_layer_model.predict(mnist.train.images)\n",
    "intermediate_output.shape"
   ]
  },
  {
   "cell_type": "code",
   "execution_count": 156,
   "metadata": {},
   "outputs": [
    {
     "data": {
      "text/plain": [
       "array([-35.65, -28.33,  -5.15,  -1.95, -30.99, -18.99, -49.22,   0.62,\n",
       "       -17.73, -21.83], dtype=float32)"
      ]
     },
     "execution_count": 156,
     "metadata": {},
     "output_type": "execute_result"
    }
   ],
   "source": [
    "np.round(intermediate_output[0], 2)"
   ]
  },
  {
   "cell_type": "code",
   "execution_count": 153,
   "metadata": {},
   "outputs": [],
   "source": [
    "def softmax(x):\n",
    "    \"\"\"Compute softmax values for each sets of scores in x.\"\"\"\n",
    "    e_x = np.exp(x - np.max(x))\n",
    "    return e_x / e_x.sum(axis=0) # only difference"
   ]
  },
  {
   "cell_type": "code",
   "execution_count": 155,
   "metadata": {},
   "outputs": [
    {
     "data": {
      "text/plain": [
       "array([0.  , 0.  , 0.  , 0.07, 0.  , 0.  , 0.  , 0.93, 0.  , 0.  ],\n",
       "      dtype=float32)"
      ]
     },
     "execution_count": 155,
     "metadata": {},
     "output_type": "execute_result"
    }
   ],
   "source": [
    "np.round(softmax(intermediate_output[0]), 2)"
   ]
  },
  {
   "cell_type": "markdown",
   "metadata": {},
   "source": [
    "The large negative values output from the second dense layer are transformed to 0 through the softmax function. <br> This is a multiclass classification problem. <br> Negative \"network weights\" are mainly highlighted in the image. <br> Should just consider the path through the network from the pixel to the predicted class **which is not what is done above**."
   ]
  },
  {
   "cell_type": "code",
   "execution_count": null,
   "metadata": {},
   "outputs": [],
   "source": []
  },
  {
   "cell_type": "code",
   "execution_count": null,
   "metadata": {},
   "outputs": [],
   "source": []
  },
  {
   "cell_type": "code",
   "execution_count": null,
   "metadata": {},
   "outputs": [],
   "source": []
  }
 ],
 "metadata": {
  "kernelspec": {
   "display_name": "Python 3",
   "language": "python",
   "name": "python3"
  },
  "language_info": {
   "codemirror_mode": {
    "name": "ipython",
    "version": 3
   },
   "file_extension": ".py",
   "mimetype": "text/x-python",
   "name": "python",
   "nbconvert_exporter": "python",
   "pygments_lexer": "ipython3",
   "version": "3.6.4"
  }
 },
 "nbformat": 4,
 "nbformat_minor": 2
}
