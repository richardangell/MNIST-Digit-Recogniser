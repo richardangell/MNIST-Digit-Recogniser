{
 "cells": [
  {
   "cell_type": "markdown",
   "metadata": {},
   "source": [
    "# MNIST Important Pixels\n",
    "In this notebook a simple feedforward network is built to recognise MNIST images, using Keras. <br> We then try to identify important pixels in the prediction for a given image."
   ]
  },
  {
   "cell_type": "markdown",
   "metadata": {},
   "source": [
    "## Part 1: Build the model"
   ]
  },
  {
   "cell_type": "markdown",
   "metadata": {},
   "source": [
    "### Import libraries"
   ]
  },
  {
   "cell_type": "code",
   "execution_count": 1,
   "metadata": {},
   "outputs": [],
   "source": [
    "import os\n",
    "import numpy as np\n",
    "import pandas as pd\n",
    "from datetime import datetime\n",
    "import matplotlib.pyplot as plt\n",
    "%matplotlib inline"
   ]
  },
  {
   "cell_type": "markdown",
   "metadata": {},
   "source": [
    "### Import MNIST data from TensorFlow"
   ]
  },
  {
   "cell_type": "code",
   "execution_count": 2,
   "metadata": {},
   "outputs": [
    {
     "name": "stderr",
     "output_type": "stream",
     "text": [
      "/Users/richardangell/anaconda3/envs/TensorFlow/lib/python3.6/site-packages/h5py/__init__.py:36: FutureWarning: Conversion of the second argument of issubdtype from `float` to `np.floating` is deprecated. In future, it will be treated as `np.float64 == np.dtype(float).type`.\n",
      "  from ._conv import register_converters as _register_converters\n"
     ]
    },
    {
     "name": "stdout",
     "output_type": "stream",
     "text": [
      "Extracting MNIST_data/train-images-idx3-ubyte.gz\n",
      "Extracting MNIST_data/train-labels-idx1-ubyte.gz\n",
      "Extracting MNIST_data/t10k-images-idx3-ubyte.gz\n",
      "Extracting MNIST_data/t10k-labels-idx1-ubyte.gz\n"
     ]
    }
   ],
   "source": [
    "from tensorflow.examples.tutorials.mnist import input_data\n",
    "mnist = input_data.read_data_sets(\"MNIST_data/\", one_hot = True)"
   ]
  },
  {
   "cell_type": "markdown",
   "metadata": {},
   "source": [
    "### Import Keras "
   ]
  },
  {
   "cell_type": "code",
   "execution_count": 3,
   "metadata": {},
   "outputs": [
    {
     "name": "stderr",
     "output_type": "stream",
     "text": [
      "Using TensorFlow backend.\n"
     ]
    }
   ],
   "source": [
    "from keras.models import Sequential\n",
    "from keras.layers import Dense, Activation"
   ]
  },
  {
   "cell_type": "markdown",
   "metadata": {},
   "source": [
    "### Define model structure"
   ]
  },
  {
   "cell_type": "code",
   "execution_count": 5,
   "metadata": {},
   "outputs": [],
   "source": [
    "model = Sequential()\n",
    "model.add(Dense(32, input_shape=(784,)))\n",
    "model.add(Activation('relu'))\n",
    "model.add(Dense(10))\n",
    "model.add(Activation('softmax'))"
   ]
  },
  {
   "cell_type": "code",
   "execution_count": 6,
   "metadata": {},
   "outputs": [],
   "source": [
    "model.compile(optimizer = 'rmsprop',\n",
    "              loss = 'categorical_crossentropy',\n",
    "              metrics = ['accuracy'])"
   ]
  },
  {
   "cell_type": "markdown",
   "metadata": {},
   "source": [
    "### Train model"
   ]
  },
  {
   "cell_type": "code",
   "execution_count": 7,
   "metadata": {},
   "outputs": [
    {
     "name": "stdout",
     "output_type": "stream",
     "text": [
      "training start: 2018-01-11 19:17:32.143990\n",
      "Train on 55000 samples, validate on 5000 samples\n",
      "Epoch 1/10\n",
      "55000/55000 [==============================] - 2s 38us/step - loss: 0.3590 - acc: 0.9011 - val_loss: 0.2107 - val_acc: 0.9402\n",
      "Epoch 2/10\n",
      "55000/55000 [==============================] - 2s 36us/step - loss: 0.2024 - acc: 0.9415 - val_loss: 0.1712 - val_acc: 0.9538\n",
      "Epoch 3/10\n",
      "55000/55000 [==============================] - 2s 35us/step - loss: 0.1673 - acc: 0.9523 - val_loss: 0.1534 - val_acc: 0.9564\n",
      "Epoch 4/10\n",
      "55000/55000 [==============================] - 2s 35us/step - loss: 0.1465 - acc: 0.9585 - val_loss: 0.1404 - val_acc: 0.9620\n",
      "Epoch 5/10\n",
      "55000/55000 [==============================] - 2s 35us/step - loss: 0.1324 - acc: 0.9628 - val_loss: 0.1386 - val_acc: 0.9624\n",
      "Epoch 6/10\n",
      "55000/55000 [==============================] - 2s 36us/step - loss: 0.1219 - acc: 0.9652 - val_loss: 0.1379 - val_acc: 0.9614\n",
      "Epoch 7/10\n",
      "55000/55000 [==============================] - 2s 36us/step - loss: 0.1153 - acc: 0.9680 - val_loss: 0.1315 - val_acc: 0.9640\n",
      "Epoch 8/10\n",
      "55000/55000 [==============================] - 2s 35us/step - loss: 0.1094 - acc: 0.9697 - val_loss: 0.1347 - val_acc: 0.9640\n",
      "Epoch 9/10\n",
      "55000/55000 [==============================] - 2s 34us/step - loss: 0.1039 - acc: 0.9717 - val_loss: 0.1369 - val_acc: 0.9610\n",
      "Epoch 10/10\n",
      "55000/55000 [==============================] - 2s 36us/step - loss: 0.0999 - acc: 0.9718 - val_loss: 0.1371 - val_acc: 0.9620\n",
      "training end: 2018-01-11 19:17:51.962859\n"
     ]
    }
   ],
   "source": [
    "print(\"training start:\", str(datetime.now()))\n",
    "model.fit(mnist.train.images, \n",
    "          mnist.train.labels, \n",
    "          epochs = 10, \n",
    "          batch_size = 32,\n",
    "          validation_data = (mnist.validation.images, mnist.validation.labels))\n",
    "print(\"training end:\", str(datetime.now()))"
   ]
  },
  {
   "cell_type": "code",
   "execution_count": 8,
   "metadata": {},
   "outputs": [
    {
     "data": {
      "text/plain": [
       "(55000, 10)"
      ]
     },
     "execution_count": 8,
     "metadata": {},
     "output_type": "execute_result"
    }
   ],
   "source": [
    "train_preds = model.predict(mnist.train.images)\n",
    "train_preds.shape"
   ]
  },
  {
   "cell_type": "markdown",
   "metadata": {},
   "source": [
    "### Check model layers"
   ]
  },
  {
   "cell_type": "code",
   "execution_count": 9,
   "metadata": {},
   "outputs": [
    {
     "name": "stdout",
     "output_type": "stream",
     "text": [
      "_________________________________________________________________\n",
      "Layer (type)                 Output Shape              Param #   \n",
      "=================================================================\n",
      "dense_1 (Dense)              (None, 32)                25120     \n",
      "_________________________________________________________________\n",
      "activation_1 (Activation)    (None, 32)                0         \n",
      "_________________________________________________________________\n",
      "dense_2 (Dense)              (None, 10)                330       \n",
      "_________________________________________________________________\n",
      "activation_2 (Activation)    (None, 10)                0         \n",
      "=================================================================\n",
      "Total params: 25,450\n",
      "Trainable params: 25,450\n",
      "Non-trainable params: 0\n",
      "_________________________________________________________________\n"
     ]
    }
   ],
   "source": [
    "model.summary()"
   ]
  },
  {
   "cell_type": "code",
   "execution_count": 10,
   "metadata": {},
   "outputs": [
    {
     "data": {
      "text/plain": [
       "(784, 32)"
      ]
     },
     "execution_count": 10,
     "metadata": {},
     "output_type": "execute_result"
    }
   ],
   "source": [
    "model.get_layer(\"dense_1\").get_weights()[0].shape"
   ]
  },
  {
   "cell_type": "code",
   "execution_count": 11,
   "metadata": {},
   "outputs": [
    {
     "data": {
      "text/plain": [
       "(32,)"
      ]
     },
     "execution_count": 11,
     "metadata": {},
     "output_type": "execute_result"
    }
   ],
   "source": [
    "model.get_layer(\"dense_1\").get_weights()[1].shape"
   ]
  },
  {
   "cell_type": "code",
   "execution_count": 12,
   "metadata": {},
   "outputs": [
    {
     "data": {
      "text/plain": [
       "(32, 10)"
      ]
     },
     "execution_count": 12,
     "metadata": {},
     "output_type": "execute_result"
    }
   ],
   "source": [
    "model.get_layer(\"dense_2\").get_weights()[0].shape"
   ]
  },
  {
   "cell_type": "code",
   "execution_count": 13,
   "metadata": {},
   "outputs": [
    {
     "data": {
      "text/plain": [
       "(10,)"
      ]
     },
     "execution_count": 13,
     "metadata": {},
     "output_type": "execute_result"
    }
   ],
   "source": [
    "model.get_layer(\"dense_2\").get_weights()[1].shape"
   ]
  },
  {
   "cell_type": "markdown",
   "metadata": {},
   "source": [
    "## Part 2: Find important pixels for the predicted value of a given image"
   ]
  },
  {
   "cell_type": "markdown",
   "metadata": {},
   "source": [
    "### Choose image to consider\n",
    "For the first row of training data, plot the image (7) and get the predictions from the model. <br> Predicted probability for class 7 = 93%."
   ]
  },
  {
   "cell_type": "code",
   "execution_count": 7,
   "metadata": {},
   "outputs": [],
   "source": [
    "row_number = 0"
   ]
  },
  {
   "cell_type": "code",
   "execution_count": 75,
   "metadata": {},
   "outputs": [
    {
     "data": {
      "text/plain": [
       "<matplotlib.image.AxesImage at 0x18282bacf8>"
      ]
     },
     "execution_count": 75,
     "metadata": {},
     "output_type": "execute_result"
    },
    {
     "data": {
      "image/png": "[encoded data removed]",
      "text/plain": [
       "<matplotlib.figure.Figure at 0x182560b0b8>"
      ]
     },
     "metadata": {},
     "output_type": "display_data"
    }
   ],
   "source": [
    "plt.imshow(1 - mnist.train.images[row_number,].reshape(28, 28), cmap='gray')"
   ]
  },
  {
   "cell_type": "code",
   "execution_count": 16,
   "metadata": {},
   "outputs": [
    {
     "name": "stdout",
     "output_type": "stream",
     "text": [
      "[0. 0. 0. 0. 0. 0. 0. 1. 0. 0.]\n",
      "label: 7.0\n"
     ]
    }
   ],
   "source": [
    "print(mnist.train.labels[row_number])\n",
    "print(\"label:\" , np.dot(mnist.train.labels[row_number], np.arange(10)))"
   ]
  },
  {
   "cell_type": "code",
   "execution_count": 17,
   "metadata": {},
   "outputs": [
    {
     "data": {
      "text/plain": [
       "array([0., 0., 0., 0., 0., 0., 0., 1., 0., 0.], dtype=float32)"
      ]
     },
     "execution_count": 17,
     "metadata": {},
     "output_type": "execute_result"
    }
   ],
   "source": [
    "np.round(train_preds[row_number], 2)"
   ]
  },
  {
   "cell_type": "markdown",
   "metadata": {},
   "source": [
    "### Mulitply inputs (pixel values) by layer 1 weights \n",
    "For the first image, get pixel value * weight for each node (32) in layer 1."
   ]
  },
  {
   "cell_type": "code",
   "execution_count": 15,
   "metadata": {},
   "outputs": [],
   "source": [
    "def multiply_inputs_coefs(inputs, coefs):\n",
    "    print(\"inputs shape:\", inputs.shape)\n",
    "    print(\"coefs shape:\", coefs.shape)\n",
    "    outputs = np.multiply(inputs, coefs)\n",
    "    print(\"outputs shape:\", outputs.shape)\n",
    "    return(outputs)"
   ]
  },
  {
   "cell_type": "code",
   "execution_count": 19,
   "metadata": {},
   "outputs": [
    {
     "name": "stdout",
     "output_type": "stream",
     "text": [
      "inputs shape: (784,)\n",
      "coefs shape: (32, 784)\n",
      "outputs shape: (32, 784)\n"
     ]
    }
   ],
   "source": [
    "input_x_coef1 = multiply_inputs_coefs(mnist.train.images[row_number,],\n",
    "                                      np.transpose(model.get_layer(\"dense_1\").get_weights()[0]))"
   ]
  },
  {
   "cell_type": "markdown",
   "metadata": {},
   "source": [
    "### Get intermediate layer outputs\n",
    "These will be needed in the next section."
   ]
  },
  {
   "cell_type": "code",
   "execution_count": 19,
   "metadata": {},
   "outputs": [],
   "source": [
    "from keras.models import Model"
   ]
  },
  {
   "cell_type": "code",
   "execution_count": 21,
   "metadata": {},
   "outputs": [
    {
     "data": {
      "text/plain": [
       "(55000, 32)"
      ]
     },
     "execution_count": 21,
     "metadata": {},
     "output_type": "execute_result"
    }
   ],
   "source": [
    "layer_name = 'activation_1'\n",
    "intermediate_layer_model = Model(inputs = model.input,\n",
    "                                 outputs = model.get_layer(layer_name).output)\n",
    "intermediate_output = intermediate_layer_model.predict(mnist.train.images)\n",
    "intermediate_output.shape"
   ]
  },
  {
   "cell_type": "markdown",
   "metadata": {},
   "source": [
    "### Multiply layer 1 outputs by layer 2 weights\n",
    "Now multiply the outputs from the activation_1 layer with the weights from the second dense layer, for each node (10)."
   ]
  },
  {
   "cell_type": "code",
   "execution_count": 22,
   "metadata": {},
   "outputs": [
    {
     "data": {
      "text/plain": [
       "(32,)"
      ]
     },
     "execution_count": 22,
     "metadata": {},
     "output_type": "execute_result"
    }
   ],
   "source": [
    "intermediate_output[0,].shape"
   ]
  },
  {
   "cell_type": "code",
   "execution_count": 23,
   "metadata": {},
   "outputs": [
    {
     "data": {
      "text/plain": [
       "(55000, 32)"
      ]
     },
     "execution_count": 23,
     "metadata": {},
     "output_type": "execute_result"
    }
   ],
   "source": [
    "intermediate_output.shape"
   ]
  },
  {
   "cell_type": "code",
   "execution_count": 24,
   "metadata": {},
   "outputs": [
    {
     "name": "stdout",
     "output_type": "stream",
     "text": [
      "inputs shape: (32,)\n",
      "coefs shape: (10, 32)\n",
      "outputs shape: (10, 32)\n"
     ]
    }
   ],
   "source": [
    "input_x_coef2 = multiply_inputs_coefs(intermediate_output[row_number,],\n",
    "                                      np.transpose(model.get_layer(\"dense_2\").get_weights()[0]))"
   ]
  },
  {
   "cell_type": "code",
   "execution_count": 25,
   "metadata": {},
   "outputs": [
    {
     "data": {
      "text/html": [
       "<div>\n",
       "<style scoped>\n",
       "    .dataframe tbody tr th:only-of-type {\n",
       "        vertical-align: middle;\n",
       "    }\n",
       "\n",
       "    .dataframe tbody tr th {\n",
       "        vertical-align: top;\n",
       "    }\n",
       "\n",
       "    .dataframe thead th {\n",
       "        text-align: right;\n",
       "    }\n",
       "</style>\n",
       "<table border=\"1\" class=\"dataframe\">\n",
       "  <thead>\n",
       "    <tr style=\"text-align: right;\">\n",
       "      <th></th>\n",
       "      <th>0</th>\n",
       "      <th>1</th>\n",
       "      <th>2</th>\n",
       "      <th>3</th>\n",
       "      <th>4</th>\n",
       "      <th>5</th>\n",
       "      <th>6</th>\n",
       "      <th>7</th>\n",
       "      <th>8</th>\n",
       "      <th>9</th>\n",
       "      <th>...</th>\n",
       "      <th>22</th>\n",
       "      <th>23</th>\n",
       "      <th>24</th>\n",
       "      <th>25</th>\n",
       "      <th>26</th>\n",
       "      <th>27</th>\n",
       "      <th>28</th>\n",
       "      <th>29</th>\n",
       "      <th>30</th>\n",
       "      <th>31</th>\n",
       "    </tr>\n",
       "  </thead>\n",
       "  <tbody>\n",
       "    <tr>\n",
       "      <th>0</th>\n",
       "      <td>-1.038059</td>\n",
       "      <td>-0.0</td>\n",
       "      <td>0.048382</td>\n",
       "      <td>-0.0</td>\n",
       "      <td>0.0</td>\n",
       "      <td>-0.0</td>\n",
       "      <td>-0.0</td>\n",
       "      <td>-0.395925</td>\n",
       "      <td>0.0</td>\n",
       "      <td>-5.556104</td>\n",
       "      <td>...</td>\n",
       "      <td>0.0</td>\n",
       "      <td>-0.0</td>\n",
       "      <td>-1.254945</td>\n",
       "      <td>-0.0</td>\n",
       "      <td>-0.0</td>\n",
       "      <td>-0.160280</td>\n",
       "      <td>-0.0</td>\n",
       "      <td>0.165583</td>\n",
       "      <td>-0.0</td>\n",
       "      <td>-0.005243</td>\n",
       "    </tr>\n",
       "    <tr>\n",
       "      <th>1</th>\n",
       "      <td>-1.667265</td>\n",
       "      <td>-0.0</td>\n",
       "      <td>-4.527611</td>\n",
       "      <td>-0.0</td>\n",
       "      <td>0.0</td>\n",
       "      <td>-0.0</td>\n",
       "      <td>-0.0</td>\n",
       "      <td>0.272612</td>\n",
       "      <td>-0.0</td>\n",
       "      <td>0.263139</td>\n",
       "      <td>...</td>\n",
       "      <td>-0.0</td>\n",
       "      <td>-0.0</td>\n",
       "      <td>1.248842</td>\n",
       "      <td>0.0</td>\n",
       "      <td>-0.0</td>\n",
       "      <td>-0.139885</td>\n",
       "      <td>0.0</td>\n",
       "      <td>-0.946494</td>\n",
       "      <td>0.0</td>\n",
       "      <td>-0.153607</td>\n",
       "    </tr>\n",
       "    <tr>\n",
       "      <th>2</th>\n",
       "      <td>-0.589613</td>\n",
       "      <td>0.0</td>\n",
       "      <td>-1.353158</td>\n",
       "      <td>-0.0</td>\n",
       "      <td>-0.0</td>\n",
       "      <td>-0.0</td>\n",
       "      <td>-0.0</td>\n",
       "      <td>-0.011784</td>\n",
       "      <td>0.0</td>\n",
       "      <td>-1.683522</td>\n",
       "      <td>...</td>\n",
       "      <td>-0.0</td>\n",
       "      <td>0.0</td>\n",
       "      <td>0.535700</td>\n",
       "      <td>-0.0</td>\n",
       "      <td>0.0</td>\n",
       "      <td>0.051014</td>\n",
       "      <td>-0.0</td>\n",
       "      <td>-0.570942</td>\n",
       "      <td>-0.0</td>\n",
       "      <td>0.002796</td>\n",
       "    </tr>\n",
       "    <tr>\n",
       "      <th>3</th>\n",
       "      <td>-0.011569</td>\n",
       "      <td>-0.0</td>\n",
       "      <td>1.029965</td>\n",
       "      <td>-0.0</td>\n",
       "      <td>-0.0</td>\n",
       "      <td>-0.0</td>\n",
       "      <td>-0.0</td>\n",
       "      <td>0.085604</td>\n",
       "      <td>-0.0</td>\n",
       "      <td>0.002077</td>\n",
       "      <td>...</td>\n",
       "      <td>-0.0</td>\n",
       "      <td>-0.0</td>\n",
       "      <td>0.850595</td>\n",
       "      <td>0.0</td>\n",
       "      <td>-0.0</td>\n",
       "      <td>-0.142918</td>\n",
       "      <td>-0.0</td>\n",
       "      <td>-0.455111</td>\n",
       "      <td>-0.0</td>\n",
       "      <td>-0.253116</td>\n",
       "    </tr>\n",
       "    <tr>\n",
       "      <th>4</th>\n",
       "      <td>0.661668</td>\n",
       "      <td>0.0</td>\n",
       "      <td>-0.843989</td>\n",
       "      <td>-0.0</td>\n",
       "      <td>-0.0</td>\n",
       "      <td>0.0</td>\n",
       "      <td>0.0</td>\n",
       "      <td>-0.591405</td>\n",
       "      <td>-0.0</td>\n",
       "      <td>-0.767890</td>\n",
       "      <td>...</td>\n",
       "      <td>0.0</td>\n",
       "      <td>-0.0</td>\n",
       "      <td>-0.366399</td>\n",
       "      <td>-0.0</td>\n",
       "      <td>-0.0</td>\n",
       "      <td>0.015492</td>\n",
       "      <td>0.0</td>\n",
       "      <td>-0.213707</td>\n",
       "      <td>0.0</td>\n",
       "      <td>0.044080</td>\n",
       "    </tr>\n",
       "    <tr>\n",
       "      <th>5</th>\n",
       "      <td>-0.076256</td>\n",
       "      <td>-0.0</td>\n",
       "      <td>-3.058671</td>\n",
       "      <td>-0.0</td>\n",
       "      <td>-0.0</td>\n",
       "      <td>-0.0</td>\n",
       "      <td>0.0</td>\n",
       "      <td>0.047731</td>\n",
       "      <td>-0.0</td>\n",
       "      <td>-3.650860</td>\n",
       "      <td>...</td>\n",
       "      <td>-0.0</td>\n",
       "      <td>0.0</td>\n",
       "      <td>-3.824978</td>\n",
       "      <td>-0.0</td>\n",
       "      <td>-0.0</td>\n",
       "      <td>-0.176371</td>\n",
       "      <td>-0.0</td>\n",
       "      <td>-0.099878</td>\n",
       "      <td>0.0</td>\n",
       "      <td>-0.305837</td>\n",
       "    </tr>\n",
       "    <tr>\n",
       "      <th>6</th>\n",
       "      <td>0.060964</td>\n",
       "      <td>0.0</td>\n",
       "      <td>1.048620</td>\n",
       "      <td>-0.0</td>\n",
       "      <td>0.0</td>\n",
       "      <td>0.0</td>\n",
       "      <td>0.0</td>\n",
       "      <td>-0.211510</td>\n",
       "      <td>-0.0</td>\n",
       "      <td>-2.699333</td>\n",
       "      <td>...</td>\n",
       "      <td>-0.0</td>\n",
       "      <td>-0.0</td>\n",
       "      <td>-3.643256</td>\n",
       "      <td>-0.0</td>\n",
       "      <td>0.0</td>\n",
       "      <td>-0.046626</td>\n",
       "      <td>0.0</td>\n",
       "      <td>-0.269945</td>\n",
       "      <td>0.0</td>\n",
       "      <td>-0.395299</td>\n",
       "    </tr>\n",
       "    <tr>\n",
       "      <th>7</th>\n",
       "      <td>-2.542858</td>\n",
       "      <td>-0.0</td>\n",
       "      <td>-0.478608</td>\n",
       "      <td>-0.0</td>\n",
       "      <td>-0.0</td>\n",
       "      <td>-0.0</td>\n",
       "      <td>-0.0</td>\n",
       "      <td>-0.726055</td>\n",
       "      <td>-0.0</td>\n",
       "      <td>1.632090</td>\n",
       "      <td>...</td>\n",
       "      <td>0.0</td>\n",
       "      <td>-0.0</td>\n",
       "      <td>-0.909822</td>\n",
       "      <td>-0.0</td>\n",
       "      <td>-0.0</td>\n",
       "      <td>-0.000013</td>\n",
       "      <td>-0.0</td>\n",
       "      <td>-0.380399</td>\n",
       "      <td>-0.0</td>\n",
       "      <td>-0.036776</td>\n",
       "    </tr>\n",
       "    <tr>\n",
       "      <th>8</th>\n",
       "      <td>0.760713</td>\n",
       "      <td>-0.0</td>\n",
       "      <td>0.324053</td>\n",
       "      <td>0.0</td>\n",
       "      <td>-0.0</td>\n",
       "      <td>-0.0</td>\n",
       "      <td>-0.0</td>\n",
       "      <td>0.286719</td>\n",
       "      <td>-0.0</td>\n",
       "      <td>0.186730</td>\n",
       "      <td>...</td>\n",
       "      <td>-0.0</td>\n",
       "      <td>-0.0</td>\n",
       "      <td>-1.540953</td>\n",
       "      <td>-0.0</td>\n",
       "      <td>-0.0</td>\n",
       "      <td>-0.067049</td>\n",
       "      <td>-0.0</td>\n",
       "      <td>-0.177100</td>\n",
       "      <td>-0.0</td>\n",
       "      <td>0.079304</td>\n",
       "    </tr>\n",
       "    <tr>\n",
       "      <th>9</th>\n",
       "      <td>-1.071790</td>\n",
       "      <td>-0.0</td>\n",
       "      <td>-1.521135</td>\n",
       "      <td>0.0</td>\n",
       "      <td>-0.0</td>\n",
       "      <td>0.0</td>\n",
       "      <td>-0.0</td>\n",
       "      <td>-0.456376</td>\n",
       "      <td>-0.0</td>\n",
       "      <td>1.348584</td>\n",
       "      <td>...</td>\n",
       "      <td>-0.0</td>\n",
       "      <td>-0.0</td>\n",
       "      <td>-0.437205</td>\n",
       "      <td>-0.0</td>\n",
       "      <td>-0.0</td>\n",
       "      <td>0.039222</td>\n",
       "      <td>0.0</td>\n",
       "      <td>0.301589</td>\n",
       "      <td>0.0</td>\n",
       "      <td>-0.053290</td>\n",
       "    </tr>\n",
       "  </tbody>\n",
       "</table>\n",
       "<p>10 rows × 32 columns</p>\n",
       "</div>"
      ],
      "text/plain": [
       "         0    1         2    3    4    5    6         7    8         9   \\\n",
       "0 -1.038059 -0.0  0.048382 -0.0  0.0 -0.0 -0.0 -0.395925  0.0 -5.556104   \n",
       "1 -1.667265 -0.0 -4.527611 -0.0  0.0 -0.0 -0.0  0.272612 -0.0  0.263139   \n",
       "2 -0.589613  0.0 -1.353158 -0.0 -0.0 -0.0 -0.0 -0.011784  0.0 -1.683522   \n",
       "3 -0.011569 -0.0  1.029965 -0.0 -0.0 -0.0 -0.0  0.085604 -0.0  0.002077   \n",
       "4  0.661668  0.0 -0.843989 -0.0 -0.0  0.0  0.0 -0.591405 -0.0 -0.767890   \n",
       "5 -0.076256 -0.0 -3.058671 -0.0 -0.0 -0.0  0.0  0.047731 -0.0 -3.650860   \n",
       "6  0.060964  0.0  1.048620 -0.0  0.0  0.0  0.0 -0.211510 -0.0 -2.699333   \n",
       "7 -2.542858 -0.0 -0.478608 -0.0 -0.0 -0.0 -0.0 -0.726055 -0.0  1.632090   \n",
       "8  0.760713 -0.0  0.324053  0.0 -0.0 -0.0 -0.0  0.286719 -0.0  0.186730   \n",
       "9 -1.071790 -0.0 -1.521135  0.0 -0.0  0.0 -0.0 -0.456376 -0.0  1.348584   \n",
       "\n",
       "     ...      22   23        24   25   26        27   28        29   30  \\\n",
       "0    ...     0.0 -0.0 -1.254945 -0.0 -0.0 -0.160280 -0.0  0.165583 -0.0   \n",
       "1    ...    -0.0 -0.0  1.248842  0.0 -0.0 -0.139885  0.0 -0.946494  0.0   \n",
       "2    ...    -0.0  0.0  0.535700 -0.0  0.0  0.051014 -0.0 -0.570942 -0.0   \n",
       "3    ...    -0.0 -0.0  0.850595  0.0 -0.0 -0.142918 -0.0 -0.455111 -0.0   \n",
       "4    ...     0.0 -0.0 -0.366399 -0.0 -0.0  0.015492  0.0 -0.213707  0.0   \n",
       "5    ...    -0.0  0.0 -3.824978 -0.0 -0.0 -0.176371 -0.0 -0.099878  0.0   \n",
       "6    ...    -0.0 -0.0 -3.643256 -0.0  0.0 -0.046626  0.0 -0.269945  0.0   \n",
       "7    ...     0.0 -0.0 -0.909822 -0.0 -0.0 -0.000013 -0.0 -0.380399 -0.0   \n",
       "8    ...    -0.0 -0.0 -1.540953 -0.0 -0.0 -0.067049 -0.0 -0.177100 -0.0   \n",
       "9    ...    -0.0 -0.0 -0.437205 -0.0 -0.0  0.039222  0.0  0.301589  0.0   \n",
       "\n",
       "         31  \n",
       "0 -0.005243  \n",
       "1 -0.153607  \n",
       "2  0.002796  \n",
       "3 -0.253116  \n",
       "4  0.044080  \n",
       "5 -0.305837  \n",
       "6 -0.395299  \n",
       "7 -0.036776  \n",
       "8  0.079304  \n",
       "9 -0.053290  \n",
       "\n",
       "[10 rows x 32 columns]"
      ]
     },
     "execution_count": 25,
     "metadata": {},
     "output_type": "execute_result"
    }
   ],
   "source": [
    "pd.set_option('display.max_columns', 20)\n",
    "pd.DataFrame(input_x_coef2)"
   ]
  },
  {
   "cell_type": "markdown",
   "metadata": {},
   "source": [
    "### Sum inputs * weights by input for second layer"
   ]
  },
  {
   "cell_type": "code",
   "execution_count": 26,
   "metadata": {},
   "outputs": [
    {
     "data": {
      "text/plain": [
       "array([ -5.5140634,   0.       ,  -9.332153 ,   0.       ,   0.       ,\n",
       "         0.       ,   0.       ,  -1.7003876,   0.       , -10.92509  ,\n",
       "         0.       ,   0.       , -23.525368 , -30.607521 ,   0.       ,\n",
       "         0.       , -23.89869  , -25.884806 ,   0.       ,   0.       ,\n",
       "         0.       , -32.01034  ,   0.       ,   0.       ,  -9.342422 ,\n",
       "         0.       ,   0.       ,  -0.6274145,   0.       ,  -2.646404 ,\n",
       "         0.       ,  -1.0769885], dtype=float32)"
      ]
     },
     "execution_count": 26,
     "metadata": {},
     "output_type": "execute_result"
    }
   ],
   "source": [
    "layer2_sum_input = np.sum(input_x_coef2, axis = 0)\n",
    "layer2_sum_input"
   ]
  },
  {
   "cell_type": "markdown",
   "metadata": {},
   "source": [
    "### Multiply weights through network\n",
    "value for pixel 1 = <br> input.weight(input1, node1) \\* \\[sum(input.weight(input1, node1), .., input.weight(input1, node10))\\] + <br>\n",
    "input.weight(input1, node2) \\* \\[sum(input.weight(input2, node1), .., input.weight(input2, node10))\\] + <br>\n",
    "input.weight(input1, node3) \\* \\[sum(input.weight(input3, node1), .., input.weight(input3, node10))\\] + <br>\n",
    "... <br>\n",
    "input.weight(input1, node32) \\* \\[sum(input.weight(input32, node1), .., input.weight(input32, node10))\\] <br>\n",
    "Note, the inputs are nodes within the sum refer to second dense layer."
   ]
  },
  {
   "cell_type": "code",
   "execution_count": 27,
   "metadata": {},
   "outputs": [
    {
     "data": {
      "text/plain": [
       "(784,)"
      ]
     },
     "execution_count": 27,
     "metadata": {},
     "output_type": "execute_result"
    }
   ],
   "source": [
    "pixel_weight_network_sum = np.dot(layer2_sum_input, input_x_coef1)\n",
    "pixel_weight_network_sum.shape"
   ]
  },
  {
   "cell_type": "code",
   "execution_count": 28,
   "metadata": {},
   "outputs": [
    {
     "data": {
      "image/png": "[encoded data removed]",
      "text/plain": [
       "<matplotlib.figure.Figure at 0x1824a65ba8>"
      ]
     },
     "metadata": {},
     "output_type": "display_data"
    }
   ],
   "source": [
    "plt.title('Distribution of pixel input x weights through network')\n",
    "a = plt.hist(pixel_weight_network_sum, bins=30)"
   ]
  },
  {
   "cell_type": "code",
   "execution_count": 29,
   "metadata": {},
   "outputs": [
    {
     "data": {
      "text/plain": [
       "<matplotlib.colorbar.Colorbar at 0x1824ddf9e8>"
      ]
     },
     "execution_count": 29,
     "metadata": {},
     "output_type": "execute_result"
    },
    {
     "data": {
      "image/png": "[encoded data removed]",
      "text/plain": [
       "<matplotlib.figure.Figure at 0x18249bf4a8>"
      ]
     },
     "metadata": {},
     "output_type": "display_data"
    }
   ],
   "source": [
    "plt.imshow(pixel_weight_network_sum.reshape(28, 28), cmap='hot')\n",
    "plt.colorbar()"
   ]
  },
  {
   "cell_type": "markdown",
   "metadata": {},
   "source": [
    "This shows the product of input * weight through the network, starting at each pixel. <br>\n",
    "However given that the background for the images is white, these zero values propagate through the network, and hence we are just highlighting the non-background (zero) pixels. <br> Need to test this on a different dataset where the background is not all one colour."
   ]
  },
  {
   "cell_type": "markdown",
   "metadata": {},
   "source": [
    "### Look at softmax transformation\n",
    "First get output from second dense layer before going into the softmax function."
   ]
  },
  {
   "cell_type": "code",
   "execution_count": 30,
   "metadata": {},
   "outputs": [
    {
     "data": {
      "text/plain": [
       "(55000, 10)"
      ]
     },
     "execution_count": 30,
     "metadata": {},
     "output_type": "execute_result"
    }
   ],
   "source": [
    "layer_name = 'dense_2'\n",
    "intermediate_layer_model = Model(inputs = model.input,\n",
    "                                 outputs = model.get_layer(layer_name).output)\n",
    "intermediate_output = intermediate_layer_model.predict(mnist.train.images)\n",
    "intermediate_output.shape"
   ]
  },
  {
   "cell_type": "code",
   "execution_count": 31,
   "metadata": {},
   "outputs": [
    {
     "data": {
      "text/plain": [
       "array([-25.95, -24.75,  -5.08,  -5.16, -23.14, -25.45, -31.05,   2.26,\n",
       "       -24.86, -15.36], dtype=float32)"
      ]
     },
     "execution_count": 31,
     "metadata": {},
     "output_type": "execute_result"
    }
   ],
   "source": [
    "np.round(intermediate_output[0], 2)"
   ]
  },
  {
   "cell_type": "markdown",
   "metadata": {},
   "source": [
    "From https://stackoverflow.com/a/38250088;"
   ]
  },
  {
   "cell_type": "code",
   "execution_count": 32,
   "metadata": {},
   "outputs": [],
   "source": [
    "def softmax(x):\n",
    "    \"\"\"Compute softmax values for each sets of scores in x.\"\"\"\n",
    "    e_x = np.exp(x - np.max(x))\n",
    "    return e_x / e_x.sum(axis=0) # only difference"
   ]
  },
  {
   "cell_type": "code",
   "execution_count": 33,
   "metadata": {},
   "outputs": [
    {
     "data": {
      "text/plain": [
       "array([0., 0., 0., 0., 0., 0., 0., 1., 0., 0.], dtype=float32)"
      ]
     },
     "execution_count": 33,
     "metadata": {},
     "output_type": "execute_result"
    }
   ],
   "source": [
    "np.round(softmax(intermediate_output[0]), 2)"
   ]
  },
  {
   "cell_type": "markdown",
   "metadata": {},
   "source": [
    "The large negative values output from the second dense layer are transformed to 0 through the softmax function. <br> This is a multiclass classification problem. <br> Negative \"network weights\" are mainly highlighted in the image. <br> Should just consider the path through the network from the pixel to the predicted class **which is not what is done above**."
   ]
  },
  {
   "cell_type": "markdown",
   "metadata": {},
   "source": [
    "### Save model"
   ]
  },
  {
   "cell_type": "markdown",
   "metadata": {},
   "source": [
    "model.save(os.getcwd() + \"/Models/2018-01-09_MNIST-Important-Pixels_White-Background.h5\")"
   ]
  },
  {
   "cell_type": "markdown",
   "metadata": {},
   "source": [
    "## Part 3. Change white background to noise and train another model"
   ]
  },
  {
   "cell_type": "markdown",
   "metadata": {},
   "source": [
    "### Replace background with noise"
   ]
  },
  {
   "cell_type": "code",
   "execution_count": 4,
   "metadata": {},
   "outputs": [
    {
     "data": {
      "text/plain": [
       "(55000, 784)"
      ]
     },
     "execution_count": 4,
     "metadata": {},
     "output_type": "execute_result"
    }
   ],
   "source": [
    "background_noise_train = mnist.train.images.copy()\n",
    "background_noise_train.shape"
   ]
  },
  {
   "cell_type": "code",
   "execution_count": 5,
   "metadata": {},
   "outputs": [],
   "source": [
    "np.random.seed(1)\n",
    "noise = np.random.rand(55000, 784)\n",
    "noise[background_noise_train != 0] = 0\n",
    "background_noise_train = background_noise_train + noise"
   ]
  },
  {
   "cell_type": "code",
   "execution_count": 8,
   "metadata": {},
   "outputs": [
    {
     "data": {
      "text/plain": [
       "<matplotlib.image.AxesImage at 0x1829e20978>"
      ]
     },
     "execution_count": 8,
     "metadata": {},
     "output_type": "execute_result"
    },
    {
     "data": {
      "image/png": "[encoded data removed]",
      "text/plain": [
       "<matplotlib.figure.Figure at 0x1829d33828>"
      ]
     },
     "metadata": {},
     "output_type": "display_data"
    }
   ],
   "source": [
    "plt.imshow(1 - background_noise_train[row_number,].reshape(28, 28), cmap='gray')"
   ]
  },
  {
   "cell_type": "markdown",
   "metadata": {},
   "source": [
    "### Rebuild model"
   ]
  },
  {
   "cell_type": "code",
   "execution_count": 9,
   "metadata": {},
   "outputs": [],
   "source": [
    "model2 = Sequential()\n",
    "model2.add(Dense(64, input_shape=(784,)))\n",
    "model2.add(Activation('relu'))\n",
    "model2.add(Dense(10))\n",
    "model2.add(Activation('softmax'))"
   ]
  },
  {
   "cell_type": "code",
   "execution_count": 10,
   "metadata": {},
   "outputs": [],
   "source": [
    "model2.compile(optimizer = 'rmsprop',\n",
    "               loss = 'categorical_crossentropy',\n",
    "               metrics = ['accuracy'])"
   ]
  },
  {
   "cell_type": "code",
   "execution_count": 11,
   "metadata": {},
   "outputs": [
    {
     "name": "stdout",
     "output_type": "stream",
     "text": [
      "training start: 2018-01-11 19:54:16.174016\n",
      "Epoch 1/30\n",
      "55000/55000 [==============================] - 2s 43us/step - loss: 1.1539 - acc: 0.6219\n",
      "Epoch 2/30\n",
      "55000/55000 [==============================] - 2s 40us/step - loss: 0.7700 - acc: 0.7511\n",
      "Epoch 3/30\n",
      "55000/55000 [==============================] - 2s 39us/step - loss: 0.7243 - acc: 0.7673\n",
      "Epoch 4/30\n",
      "55000/55000 [==============================] - 2s 40us/step - loss: 0.6996 - acc: 0.7737\n",
      "Epoch 5/30\n",
      "55000/55000 [==============================] - 2s 40us/step - loss: 0.6790 - acc: 0.7818\n",
      "Epoch 6/30\n",
      "55000/55000 [==============================] - 2s 39us/step - loss: 0.6590 - acc: 0.7882\n",
      "Epoch 7/30\n",
      "55000/55000 [==============================] - 2s 40us/step - loss: 0.6384 - acc: 0.7922\n",
      "Epoch 8/30\n",
      "55000/55000 [==============================] - 2s 40us/step - loss: 0.6166 - acc: 0.7998\n",
      "Epoch 9/30\n",
      "55000/55000 [==============================] - 2s 40us/step - loss: 0.5941 - acc: 0.8067\n",
      "Epoch 10/30\n",
      "55000/55000 [==============================] - 2s 40us/step - loss: 0.5695 - acc: 0.8139\n",
      "Epoch 11/30\n",
      "55000/55000 [==============================] - 2s 40us/step - loss: 0.5488 - acc: 0.8216\n",
      "Epoch 12/30\n",
      "55000/55000 [==============================] - 2s 40us/step - loss: 0.5301 - acc: 0.8269\n",
      "Epoch 13/30\n",
      "55000/55000 [==============================] - 2s 40us/step - loss: 0.5116 - acc: 0.8339\n",
      "Epoch 14/30\n",
      "55000/55000 [==============================] - 2s 40us/step - loss: 0.4972 - acc: 0.8380\n",
      "Epoch 15/30\n",
      "55000/55000 [==============================] - 2s 40us/step - loss: 0.4809 - acc: 0.8431\n",
      "Epoch 16/30\n",
      "55000/55000 [==============================] - 2s 40us/step - loss: 0.4688 - acc: 0.8459\n",
      "Epoch 17/30\n",
      "55000/55000 [==============================] - 2s 40us/step - loss: 0.4562 - acc: 0.8505\n",
      "Epoch 18/30\n",
      "55000/55000 [==============================] - 2s 40us/step - loss: 0.4455 - acc: 0.8551\n",
      "Epoch 19/30\n",
      "55000/55000 [==============================] - 2s 41us/step - loss: 0.4357 - acc: 0.8585\n",
      "Epoch 20/30\n",
      "55000/55000 [==============================] - 2s 40us/step - loss: 0.4277 - acc: 0.8593\n",
      "Epoch 21/30\n",
      "55000/55000 [==============================] - 2s 40us/step - loss: 0.4202 - acc: 0.8632\n",
      "Epoch 22/30\n",
      "55000/55000 [==============================] - 2s 40us/step - loss: 0.4113 - acc: 0.8651\n",
      "Epoch 23/30\n",
      "55000/55000 [==============================] - 2s 41us/step - loss: 0.4009 - acc: 0.8675\n",
      "Epoch 24/30\n",
      "55000/55000 [==============================] - 2s 40us/step - loss: 0.3983 - acc: 0.8705\n",
      "Epoch 25/30\n",
      "55000/55000 [==============================] - 2s 40us/step - loss: 0.3916 - acc: 0.8707\n",
      "Epoch 26/30\n",
      "55000/55000 [==============================] - 2s 40us/step - loss: 0.3823 - acc: 0.8736\n",
      "Epoch 27/30\n",
      "55000/55000 [==============================] - 2s 41us/step - loss: 0.3786 - acc: 0.8762\n",
      "Epoch 28/30\n",
      "55000/55000 [==============================] - 2s 40us/step - loss: 0.3718 - acc: 0.8766\n",
      "Epoch 29/30\n",
      "55000/55000 [==============================] - 2s 40us/step - loss: 0.3656 - acc: 0.8795\n",
      "Epoch 30/30\n",
      "55000/55000 [==============================] - 2s 40us/step - loss: 0.3617 - acc: 0.8809\n",
      "training end: 2018-01-11 19:55:22.498044\n"
     ]
    }
   ],
   "source": [
    "print(\"training start:\", str(datetime.now()))\n",
    "model2.fit(background_noise_train, \n",
    "           mnist.train.labels, \n",
    "           epochs = 30, \n",
    "           batch_size = 32)\n",
    "print(\"training end:\", str(datetime.now()))"
   ]
  },
  {
   "cell_type": "markdown",
   "metadata": {},
   "source": [
    "We're getting much worse accuracy, but let's leave it at that for now."
   ]
  },
  {
   "cell_type": "code",
   "execution_count": 12,
   "metadata": {},
   "outputs": [
    {
     "name": "stdout",
     "output_type": "stream",
     "text": [
      "_________________________________________________________________\n",
      "Layer (type)                 Output Shape              Param #   \n",
      "=================================================================\n",
      "dense_1 (Dense)              (None, 64)                50240     \n",
      "_________________________________________________________________\n",
      "activation_1 (Activation)    (None, 64)                0         \n",
      "_________________________________________________________________\n",
      "dense_2 (Dense)              (None, 10)                650       \n",
      "_________________________________________________________________\n",
      "activation_2 (Activation)    (None, 10)                0         \n",
      "=================================================================\n",
      "Total params: 50,890\n",
      "Trainable params: 50,890\n",
      "Non-trainable params: 0\n",
      "_________________________________________________________________\n"
     ]
    }
   ],
   "source": [
    "model2.summary()"
   ]
  },
  {
   "cell_type": "code",
   "execution_count": 13,
   "metadata": {},
   "outputs": [
    {
     "data": {
      "text/plain": [
       "(55000, 10)"
      ]
     },
     "execution_count": 13,
     "metadata": {},
     "output_type": "execute_result"
    }
   ],
   "source": [
    "train_preds2 = model2.predict(background_noise_train)\n",
    "train_preds2.shape"
   ]
  },
  {
   "cell_type": "markdown",
   "metadata": {},
   "source": [
    "### Calculate pixel importance"
   ]
  },
  {
   "cell_type": "code",
   "execution_count": 17,
   "metadata": {},
   "outputs": [
    {
     "name": "stdout",
     "output_type": "stream",
     "text": [
      "inputs shape: (784,)\n",
      "coefs shape: (64, 784)\n",
      "outputs shape: (64, 784)\n"
     ]
    }
   ],
   "source": [
    "input_x_coef12 = multiply_inputs_coefs(background_noise_train[row_number,],\n",
    "                                       np.transpose(model2.get_layer(\"dense_1\").get_weights()[0]))"
   ]
  },
  {
   "cell_type": "code",
   "execution_count": 20,
   "metadata": {},
   "outputs": [
    {
     "data": {
      "text/plain": [
       "(55000, 64)"
      ]
     },
     "execution_count": 20,
     "metadata": {},
     "output_type": "execute_result"
    }
   ],
   "source": [
    "layer_name = 'activation_1'\n",
    "intermediate_layer_model2 = Model(inputs = model2.input,\n",
    "                                  outputs = model2.get_layer(layer_name).output)\n",
    "intermediate_output2 = intermediate_layer_model2.predict(background_noise_train)\n",
    "intermediate_output2.shape"
   ]
  },
  {
   "cell_type": "code",
   "execution_count": 22,
   "metadata": {},
   "outputs": [
    {
     "name": "stdout",
     "output_type": "stream",
     "text": [
      "inputs shape: (64,)\n",
      "coefs shape: (10, 64)\n",
      "outputs shape: (10, 64)\n"
     ]
    }
   ],
   "source": [
    "input_x_coef22 = multiply_inputs_coefs(intermediate_output2[row_number,],\n",
    "                                       np.transpose(model2.get_layer(\"dense_2\").get_weights()[0]))"
   ]
  },
  {
   "cell_type": "code",
   "execution_count": 23,
   "metadata": {},
   "outputs": [],
   "source": [
    "layer2_sum_input2 = np.sum(input_x_coef22, axis = 0)"
   ]
  },
  {
   "cell_type": "code",
   "execution_count": 24,
   "metadata": {},
   "outputs": [
    {
     "data": {
      "text/plain": [
       "(784,)"
      ]
     },
     "execution_count": 24,
     "metadata": {},
     "output_type": "execute_result"
    }
   ],
   "source": [
    "pixel_weight_network_sum2 = np.dot(layer2_sum_input2, input_x_coef12)\n",
    "pixel_weight_network_sum2.shape"
   ]
  },
  {
   "cell_type": "code",
   "execution_count": 25,
   "metadata": {},
   "outputs": [
    {
     "data": {
      "image/png": "[encoded data removed]",
      "text/plain": [
       "<matplotlib.figure.Figure at 0x182a3b8cf8>"
      ]
     },
     "metadata": {},
     "output_type": "display_data"
    }
   ],
   "source": [
    "plt.title('Distribution of pixel input x weights through network')\n",
    "a = plt.hist(pixel_weight_network_sum2, bins=30)"
   ]
  },
  {
   "cell_type": "code",
   "execution_count": 26,
   "metadata": {},
   "outputs": [
    {
     "data": {
      "text/plain": [
       "<matplotlib.colorbar.Colorbar at 0x182a519e80>"
      ]
     },
     "execution_count": 26,
     "metadata": {},
     "output_type": "execute_result"
    },
    {
     "data": {
      "image/png": "[encoded data removed]",
      "text/plain": [
       "<matplotlib.figure.Figure at 0x182a4a1208>"
      ]
     },
     "metadata": {},
     "output_type": "display_data"
    }
   ],
   "source": [
    "plt.imshow(pixel_weight_network_sum2.reshape(28, 28), cmap='hot')\n",
    "plt.colorbar()"
   ]
  },
  {
   "cell_type": "code",
   "execution_count": 27,
   "metadata": {},
   "outputs": [
    {
     "data": {
      "text/plain": [
       "array([0.  , 0.  , 0.01, 0.  , 0.01, 0.  , 0.  , 0.82, 0.  , 0.16],\n",
       "      dtype=float32)"
      ]
     },
     "execution_count": 27,
     "metadata": {},
     "output_type": "execute_result"
    }
   ],
   "source": [
    "np.round(train_preds2[0], 2)"
   ]
  },
  {
   "cell_type": "markdown",
   "metadata": {},
   "source": [
    "### Check importance for class 7 prediction only"
   ]
  },
  {
   "cell_type": "code",
   "execution_count": 29,
   "metadata": {},
   "outputs": [
    {
     "name": "stdout",
     "output_type": "stream",
     "text": [
      "inputs shape: (64,)\n",
      "coefs shape: (64,)\n",
      "outputs shape: (64,)\n"
     ]
    }
   ],
   "source": [
    "input_x_coef23 = multiply_inputs_coefs(intermediate_output2[row_number,],\n",
    "                                       np.transpose(model2.get_layer(\"dense_2\").get_weights()[0])[7,])"
   ]
  },
  {
   "cell_type": "code",
   "execution_count": 30,
   "metadata": {},
   "outputs": [
    {
     "data": {
      "text/plain": [
       "(64,)"
      ]
     },
     "execution_count": 30,
     "metadata": {},
     "output_type": "execute_result"
    }
   ],
   "source": [
    "layer2_sum_input3 = input_x_coef23\n",
    "layer2_sum_input3.shape"
   ]
  },
  {
   "cell_type": "code",
   "execution_count": 31,
   "metadata": {},
   "outputs": [
    {
     "data": {
      "text/plain": [
       "(784,)"
      ]
     },
     "execution_count": 31,
     "metadata": {},
     "output_type": "execute_result"
    }
   ],
   "source": [
    "pixel_weight_network_sum3 = np.dot(layer2_sum_input3, input_x_coef12)\n",
    "pixel_weight_network_sum3.shape"
   ]
  },
  {
   "cell_type": "code",
   "execution_count": 32,
   "metadata": {},
   "outputs": [
    {
     "data": {
      "text/plain": [
       "<matplotlib.colorbar.Colorbar at 0x182ab111d0>"
      ]
     },
     "execution_count": 32,
     "metadata": {},
     "output_type": "execute_result"
    },
    {
     "data": {
      "image/png": "[encoded data removed]",
      "text/plain": [
       "<matplotlib.figure.Figure at 0x182a951198>"
      ]
     },
     "metadata": {},
     "output_type": "display_data"
    }
   ],
   "source": [
    "plt.imshow(pixel_weight_network_sum3.reshape(28, 28), cmap='hot')\n",
    "plt.colorbar()"
   ]
  },
  {
   "cell_type": "markdown",
   "metadata": {},
   "source": [
    "None of these are particularly clear but the model is performing much worse and is much less confident in the prediction for this particular class."
   ]
  },
  {
   "cell_type": "code",
   "execution_count": null,
   "metadata": {},
   "outputs": [],
   "source": []
  },
  {
   "cell_type": "code",
   "execution_count": null,
   "metadata": {},
   "outputs": [],
   "source": []
  }
 ],
 "metadata": {
  "kernelspec": {
   "display_name": "Python 3",
   "language": "python",
   "name": "python3"
  },
  "language_info": {
   "codemirror_mode": {
    "name": "ipython",
    "version": 3
   },
   "file_extension": ".py",
   "mimetype": "text/x-python",
   "name": "python",
   "nbconvert_exporter": "python",
   "pygments_lexer": "ipython3",
   "version": "3.6.4"
  }
 },
 "nbformat": 4,
 "nbformat_minor": 2
}
